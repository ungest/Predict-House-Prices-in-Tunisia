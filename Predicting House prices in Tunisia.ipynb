{
 "cells": [
  {
   "cell_type": "markdown",
   "id": "d5807a30",
   "metadata": {},
   "source": [
    "## Predicting House prices in Tunisia"
   ]
  },
  {
   "cell_type": "code",
   "execution_count": 329,
   "id": "fac9107a",
   "metadata": {},
   "outputs": [],
   "source": [
    "import pandas as pd\n",
    "import seaborn as sns\n",
    "import matplotlib.pyplot as plt\n",
    "from sklearn.model_selection import train_test_split\n",
    "from sklearn.metrics import mean_absolute_error\n",
    "from sklearn.linear_model import Ridge\n",
    "from category_encoders import OneHotEncoder\n",
    "from sklearn.impute import SimpleImputer\n",
    "from sklearn.pipeline import make_pipeline\n",
    "from ipywidgets import Dropdown, IntSlider, FloatSlider, interact"
   ]
  },
  {
   "cell_type": "markdown",
   "id": "03260814",
   "metadata": {},
   "source": [
    "## Data Wrangling"
   ]
  },
  {
   "cell_type": "code",
   "execution_count": 263,
   "id": "e810835a",
   "metadata": {},
   "outputs": [],
   "source": [
    "def wrangle(file):\n",
    "    # Read csv file to pandas Dataframe\n",
    "    df = pd.read_csv(file)\n",
    "    \n",
    "    \n",
    "    # Subset to only include houses less than €100_000\n",
    "    subset_price = df['price_eur'] < 100000\n",
    "    \n",
    "    df = df[subset_price]\n",
    "        \n",
    "    # Removing the Top 10 and Bottom 10 percent of the 'area' column\n",
    "    top, bottom = df['Area'].quantile([0.1, 0.9])\n",
    "    subset_area = df['Area'].between(top, bottom)\n",
    "    \n",
    "    \n",
    "    df = df[subset_area]\n",
    "    \n",
    "    \n",
    "    # Dropping columns with more than 50% Null values\n",
    "    columns = df.isnull().sum().to_dict()\n",
    "    for key in columns:\n",
    "        if columns[key] > df.shape[0]/2:\n",
    "            df.drop(columns=[key], inplace=True)\n",
    "\n",
    "    # Dropping categorical columns with Low or Too High cardinality\n",
    "    df.drop(columns=['id'], inplace=True)\n",
    "    \n",
    "    # Dropping columns that can cause Leakage to the model\n",
    "    df.drop(columns=['price_tnd'], inplace=True)\n",
    "    \n",
    "    # Dropping columns that will cause multicollinearity\n",
    "    df.drop(columns=['pieces', 'room', 'bathroom', 'state', 'garden'], inplace=True)\n",
    "    \n",
    "    # Dropping columns that are not neccessary features for the model\n",
    "    df.drop(columns=['furnished', 'elevator', 'pool', 'mountain_view', 'garage', \n",
    "                     'concierge', 'beach_view', 'air_conditioning', 'equipped_kitchen', \n",
    "                     'central_heating', 'city', 'location', 'distance_to_capital'], inplace=True)\n",
    "    \n",
    "    return df"
   ]
  },
  {
   "cell_type": "code",
   "execution_count": 264,
   "id": "0b9b18cf",
   "metadata": {},
   "outputs": [
    {
     "data": {
      "text/plain": [
       "governorate    19\n",
       "dtype: int64"
      ]
     },
     "execution_count": 264,
     "metadata": {},
     "output_type": "execute_result"
    }
   ],
   "source": [
    "df = wrangle('dataSetFull.csv')\n",
    "columns = df.isnull().sum().to_dict()\n",
    "for key in columns:\n",
    "    if columns[key] > df.shape[0]/2:\n",
    "        df.drop(columns=[key], inplace=True)\n",
    "        \n",
    "\n",
    "df.select_dtypes('object').nunique()"
   ]
  },
  {
   "cell_type": "code",
   "execution_count": 265,
   "id": "d97e2bfa",
   "metadata": {},
   "outputs": [
    {
     "name": "stderr",
     "output_type": "stream",
     "text": [
      "C:\\Users\\ADMIN PC\\AppData\\Local\\Temp\\ipykernel_3272\\2039215006.py:1: FutureWarning: The default value of numeric_only in DataFrame.corr is deprecated. In a future version, it will default to False. Select only valid columns or specify the value of numeric_only to silence this warning.\n",
      "  corr = df.drop(columns=['price_eur']).corr()\n"
     ]
    },
    {
     "data": {
      "text/plain": [
       "<Axes: >"
      ]
     },
     "execution_count": 265,
     "metadata": {},
     "output_type": "execute_result"
    },
    {
     "data": {
      "image/png": "[encoded data removed]",
      "text/plain": [
       "<Figure size 640x480 with 2 Axes>"
      ]
     },
     "metadata": {},
     "output_type": "display_data"
    }
   ],
   "source": [
    "# Checking for multicolinearity\n",
    "corr = df.drop(columns=['price_eur']).corr()\n",
    "sns.heatmap(corr)"
   ]
  },
  {
   "cell_type": "code",
   "execution_count": 266,
   "id": "faf0a90a",
   "metadata": {},
   "outputs": [
    {
     "name": "stdout",
     "output_type": "stream",
     "text": [
      "<class 'pandas.core.frame.DataFrame'>\n",
      "Int64Index: 1838 entries, 60 to 8037\n",
      "Data columns (total 5 columns):\n",
      " #   Column       Non-Null Count  Dtype  \n",
      "---  ------       --------------  -----  \n",
      " 0   price_eur    1838 non-null   float64\n",
      " 1   governorate  1838 non-null   object \n",
      " 2   Area         1838 non-null   float64\n",
      " 3   latt         1833 non-null   float64\n",
      " 4   long         1833 non-null   float64\n",
      "dtypes: float64(4), object(1)\n",
      "memory usage: 86.2+ KB\n"
     ]
    }
   ],
   "source": [
    "df.info()"
   ]
  },
  {
   "cell_type": "code",
   "execution_count": 283,
   "id": "2911ef8a",
   "metadata": {},
   "outputs": [
    {
     "data": {
      "image/png": "[encoded data removed]",
      "text/plain": [
       "<Figure size 640x480 with 1 Axes>"
      ]
     },
     "metadata": {},
     "output_type": "display_data"
    }
   ],
   "source": [
    "plt.hist(df.Area);"
   ]
  },
  {
   "cell_type": "code",
   "execution_count": 276,
   "id": "dd6dceb3",
   "metadata": {},
   "outputs": [
    {
     "data": {
      "text/html": [
       "<div>\n",
       "<style scoped>\n",
       "    .dataframe tbody tr th:only-of-type {\n",
       "        vertical-align: middle;\n",
       "    }\n",
       "\n",
       "    .dataframe tbody tr th {\n",
       "        vertical-align: top;\n",
       "    }\n",
       "\n",
       "    .dataframe thead th {\n",
       "        text-align: right;\n",
       "    }\n",
       "</style>\n",
       "<table border=\"1\" class=\"dataframe\">\n",
       "  <thead>\n",
       "    <tr style=\"text-align: right;\">\n",
       "      <th></th>\n",
       "      <th>price_eur</th>\n",
       "      <th>governorate</th>\n",
       "      <th>Area</th>\n",
       "      <th>latt</th>\n",
       "      <th>long</th>\n",
       "    </tr>\n",
       "  </thead>\n",
       "  <tbody>\n",
       "    <tr>\n",
       "      <th>60</th>\n",
       "      <td>80600.0</td>\n",
       "      <td>Bizerte</td>\n",
       "      <td>131.0</td>\n",
       "      <td>37.130300</td>\n",
       "      <td>9.750678</td>\n",
       "    </tr>\n",
       "    <tr>\n",
       "      <th>138</th>\n",
       "      <td>99200.0</td>\n",
       "      <td>tunis</td>\n",
       "      <td>200.0</td>\n",
       "      <td>NaN</td>\n",
       "      <td>NaN</td>\n",
       "    </tr>\n",
       "    <tr>\n",
       "      <th>226</th>\n",
       "      <td>77500.0</td>\n",
       "      <td>Nabeul</td>\n",
       "      <td>180.0</td>\n",
       "      <td>36.401080</td>\n",
       "      <td>10.614570</td>\n",
       "    </tr>\n",
       "    <tr>\n",
       "      <th>227</th>\n",
       "      <td>68200.0</td>\n",
       "      <td>Djerba</td>\n",
       "      <td>178.0</td>\n",
       "      <td>33.782703</td>\n",
       "      <td>11.026705</td>\n",
       "    </tr>\n",
       "    <tr>\n",
       "      <th>230</th>\n",
       "      <td>77500.0</td>\n",
       "      <td>tunis</td>\n",
       "      <td>124.0</td>\n",
       "      <td>33.886900</td>\n",
       "      <td>9.537500</td>\n",
       "    </tr>\n",
       "  </tbody>\n",
       "</table>\n",
       "</div>"
      ],
      "text/plain": [
       "     price_eur governorate   Area       latt       long\n",
       "60     80600.0     Bizerte  131.0  37.130300   9.750678\n",
       "138    99200.0       tunis  200.0        NaN        NaN\n",
       "226    77500.0      Nabeul  180.0  36.401080  10.614570\n",
       "227    68200.0      Djerba  178.0  33.782703  11.026705\n",
       "230    77500.0       tunis  124.0  33.886900   9.537500"
      ]
     },
     "execution_count": 276,
     "metadata": {},
     "output_type": "execute_result"
    }
   ],
   "source": [
    "df.head()"
   ]
  },
  {
   "cell_type": "markdown",
   "id": "6368c39f",
   "metadata": {},
   "source": [
    "## Feature Enginnering"
   ]
  },
  {
   "cell_type": "code",
   "execution_count": 277,
   "id": "06b3b298",
   "metadata": {},
   "outputs": [],
   "source": [
    "# Seperating Features natrix and Target vector\n",
    "\n",
    "feature = ['governorate', 'Area', 'latt', 'long']\n",
    "train = 'price_eur'\n",
    "\n",
    "X = df[feature]\n",
    "y = df[train]"
   ]
  },
  {
   "cell_type": "code",
   "execution_count": 318,
   "id": "729d806e",
   "metadata": {},
   "outputs": [],
   "source": [
    "# Spliting the dataset to train and test data\n",
    "\n",
    "X_train, X_test, y_train, y_test = train_test_split(X, y, test_size=0.3, random_state=42)"
   ]
  },
  {
   "cell_type": "markdown",
   "id": "6b65ac4f",
   "metadata": {},
   "source": [
    "### Baseline"
   ]
  },
  {
   "cell_type": "code",
   "execution_count": 319,
   "id": "8f6b1bbd",
   "metadata": {},
   "outputs": [
    {
     "name": "stdout",
     "output_type": "stream",
     "text": [
      "Mean Price: 69232.41\n",
      "MAE Baseline: 16125.51\n"
     ]
    }
   ],
   "source": [
    "# Baseline Model\n",
    "y_mean = round(y_train.mean(), 2)\n",
    "y_pred = [y_mean for y in y_train]\n",
    "\n",
    "# performance of the baseline model\n",
    "MAE_baseline = round(mean_absolute_error(y_pred, y_train), 2)\n",
    "\n",
    "print(f'Mean Price: {y_mean}')\n",
    "print(f'MAE Baseline: {MAE_baseline}')"
   ]
  },
  {
   "cell_type": "markdown",
   "id": "2bc0c725",
   "metadata": {},
   "source": [
    "### Iterate"
   ]
  },
  {
   "cell_type": "code",
   "execution_count": 320,
   "id": "c4072b55",
   "metadata": {},
   "outputs": [],
   "source": [
    "# Instantiate the model\n",
    "model = make_pipeline(\n",
    "                    OneHotEncoder(use_cat_names=True),\n",
    "                    SimpleImputer(),\n",
    "                    Ridge())"
   ]
  },
  {
   "cell_type": "code",
   "execution_count": 321,
   "id": "fe220f17",
   "metadata": {},
   "outputs": [
    {
     "data": {
      "text/html": [
       "<style>#sk-container-id-4 {color: black;}#sk-container-id-4 pre{padding: 0;}#sk-container-id-4 div.sk-toggleable {background-color: white;}#sk-container-id-4 label.sk-toggleable__label {cursor: pointer;display: block;width: 100%;margin-bottom: 0;padding: 0.3em;box-sizing: border-box;text-align: center;}#sk-container-id-4 label.sk-toggleable__label-arrow:before {content: \"▸\";float: left;margin-right: 0.25em;color: #696969;}#sk-container-id-4 label.sk-toggleable__label-arrow:hover:before {color: black;}#sk-container-id-4 div.sk-estimator:hover label.sk-toggleable__label-arrow:before {color: black;}#sk-container-id-4 div.sk-toggleable__content {max-height: 0;max-width: 0;overflow: hidden;text-align: left;background-color: #f0f8ff;}#sk-container-id-4 div.sk-toggleable__content pre {margin: 0.2em;color: black;border-radius: 0.25em;background-color: #f0f8ff;}#sk-container-id-4 input.sk-toggleable__control:checked~div.sk-toggleable__content {max-height: 200px;max-width: 100%;overflow: auto;}#sk-container-id-4 input.sk-toggleable__control:checked~label.sk-toggleable__label-arrow:before {content: \"▾\";}#sk-container-id-4 div.sk-estimator input.sk-toggleable__control:checked~label.sk-toggleable__label {background-color: #d4ebff;}#sk-container-id-4 div.sk-label input.sk-toggleable__control:checked~label.sk-toggleable__label {background-color: #d4ebff;}#sk-container-id-4 input.sk-hidden--visually {border: 0;clip: rect(1px 1px 1px 1px);clip: rect(1px, 1px, 1px, 1px);height: 1px;margin: -1px;overflow: hidden;padding: 0;position: absolute;width: 1px;}#sk-container-id-4 div.sk-estimator {font-family: monospace;background-color: #f0f8ff;border: 1px dotted black;border-radius: 0.25em;box-sizing: border-box;margin-bottom: 0.5em;}#sk-container-id-4 div.sk-estimator:hover {background-color: #d4ebff;}#sk-container-id-4 div.sk-parallel-item::after {content: \"\";width: 100%;border-bottom: 1px solid gray;flex-grow: 1;}#sk-container-id-4 div.sk-label:hover label.sk-toggleable__label {background-color: #d4ebff;}#sk-container-id-4 div.sk-serial::before {content: \"\";position: absolute;border-left: 1px solid gray;box-sizing: border-box;top: 0;bottom: 0;left: 50%;z-index: 0;}#sk-container-id-4 div.sk-serial {display: flex;flex-direction: column;align-items: center;background-color: white;padding-right: 0.2em;padding-left: 0.2em;position: relative;}#sk-container-id-4 div.sk-item {position: relative;z-index: 1;}#sk-container-id-4 div.sk-parallel {display: flex;align-items: stretch;justify-content: center;background-color: white;position: relative;}#sk-container-id-4 div.sk-item::before, #sk-container-id-4 div.sk-parallel-item::before {content: \"\";position: absolute;border-left: 1px solid gray;box-sizing: border-box;top: 0;bottom: 0;left: 50%;z-index: -1;}#sk-container-id-4 div.sk-parallel-item {display: flex;flex-direction: column;z-index: 1;position: relative;background-color: white;}#sk-container-id-4 div.sk-parallel-item:first-child::after {align-self: flex-end;width: 50%;}#sk-container-id-4 div.sk-parallel-item:last-child::after {align-self: flex-start;width: 50%;}#sk-container-id-4 div.sk-parallel-item:only-child::after {width: 0;}#sk-container-id-4 div.sk-dashed-wrapped {border: 1px dashed gray;margin: 0 0.4em 0.5em 0.4em;box-sizing: border-box;padding-bottom: 0.4em;background-color: white;}#sk-container-id-4 div.sk-label label {font-family: monospace;font-weight: bold;display: inline-block;line-height: 1.2em;}#sk-container-id-4 div.sk-label-container {text-align: center;}#sk-container-id-4 div.sk-container {/* jupyter's `normalize.less` sets `[hidden] { display: none; }` but bootstrap.min.css set `[hidden] { display: none !important; }` so we also need the `!important` here to be able to override the default hidden behavior on the sphinx rendered scikit-learn.org. See: https://github.com/scikit-learn/scikit-learn/issues/21755 */display: inline-block !important;position: relative;}#sk-container-id-4 div.sk-text-repr-fallback {display: none;}</style><div id=\"sk-container-id-4\" class=\"sk-top-container\"><div class=\"sk-text-repr-fallback\"><pre>Pipeline(steps=[(&#x27;onehotencoder&#x27;,\n",
       "                 OneHotEncoder(cols=[&#x27;governorate&#x27;], use_cat_names=True)),\n",
       "                (&#x27;simpleimputer&#x27;, SimpleImputer()), (&#x27;ridge&#x27;, Ridge())])</pre><b>In a Jupyter environment, please rerun this cell to show the HTML representation or trust the notebook. <br />On GitHub, the HTML representation is unable to render, please try loading this page with nbviewer.org.</b></div><div class=\"sk-container\" hidden><div class=\"sk-item sk-dashed-wrapped\"><div class=\"sk-label-container\"><div class=\"sk-label sk-toggleable\"><input class=\"sk-toggleable__control sk-hidden--visually\" id=\"sk-estimator-id-13\" type=\"checkbox\" ><label for=\"sk-estimator-id-13\" class=\"sk-toggleable__label sk-toggleable__label-arrow\">Pipeline</label><div class=\"sk-toggleable__content\"><pre>Pipeline(steps=[(&#x27;onehotencoder&#x27;,\n",
       "                 OneHotEncoder(cols=[&#x27;governorate&#x27;], use_cat_names=True)),\n",
       "                (&#x27;simpleimputer&#x27;, SimpleImputer()), (&#x27;ridge&#x27;, Ridge())])</pre></div></div></div><div class=\"sk-serial\"><div class=\"sk-item\"><div class=\"sk-estimator sk-toggleable\"><input class=\"sk-toggleable__control sk-hidden--visually\" id=\"sk-estimator-id-14\" type=\"checkbox\" ><label for=\"sk-estimator-id-14\" class=\"sk-toggleable__label sk-toggleable__label-arrow\">OneHotEncoder</label><div class=\"sk-toggleable__content\"><pre>OneHotEncoder(cols=[&#x27;governorate&#x27;], use_cat_names=True)</pre></div></div></div><div class=\"sk-item\"><div class=\"sk-estimator sk-toggleable\"><input class=\"sk-toggleable__control sk-hidden--visually\" id=\"sk-estimator-id-15\" type=\"checkbox\" ><label for=\"sk-estimator-id-15\" class=\"sk-toggleable__label sk-toggleable__label-arrow\">SimpleImputer</label><div class=\"sk-toggleable__content\"><pre>SimpleImputer()</pre></div></div></div><div class=\"sk-item\"><div class=\"sk-estimator sk-toggleable\"><input class=\"sk-toggleable__control sk-hidden--visually\" id=\"sk-estimator-id-16\" type=\"checkbox\" ><label for=\"sk-estimator-id-16\" class=\"sk-toggleable__label sk-toggleable__label-arrow\">Ridge</label><div class=\"sk-toggleable__content\"><pre>Ridge()</pre></div></div></div></div></div></div></div>"
      ],
      "text/plain": [
       "Pipeline(steps=[('onehotencoder',\n",
       "                 OneHotEncoder(cols=['governorate'], use_cat_names=True)),\n",
       "                ('simpleimputer', SimpleImputer()), ('ridge', Ridge())])"
      ]
     },
     "execution_count": 321,
     "metadata": {},
     "output_type": "execute_result"
    }
   ],
   "source": [
    "# Fit the model\n",
    "\n",
    "model.fit(X_train, y_train)"
   ]
  },
  {
   "cell_type": "markdown",
   "id": "7780312e",
   "metadata": {},
   "source": [
    "### Evaluate"
   ]
  },
  {
   "cell_type": "code",
   "execution_count": 322,
   "id": "d788fe0f",
   "metadata": {},
   "outputs": [
    {
     "data": {
      "text/plain": [
       "0    53935.910335\n",
       "1    61437.674731\n",
       "2    74478.925257\n",
       "3    76739.211448\n",
       "4    75366.282332\n",
       "dtype: float64"
      ]
     },
     "execution_count": 322,
     "metadata": {},
     "output_type": "execute_result"
    }
   ],
   "source": [
    "# Predict target\n",
    "y_pred_train = pd.Series(model.predict(X_train))\n",
    "y_pred_train.head()"
   ]
  },
  {
   "cell_type": "code",
   "execution_count": 323,
   "id": "0b567fea",
   "metadata": {},
   "outputs": [
    {
     "name": "stdout",
     "output_type": "stream",
     "text": [
      "MAE training: 14511.32\n"
     ]
    }
   ],
   "source": [
    "# Performance of the model\n",
    "\n",
    "MAE_training = round(mean_absolute_error(y_train, y_pred_train), 2)\n",
    "print(f'MAE training: {MAE_training}')"
   ]
  },
  {
   "cell_type": "code",
   "execution_count": 324,
   "id": "91735129",
   "metadata": {},
   "outputs": [
    {
     "name": "stdout",
     "output_type": "stream",
     "text": [
      "MAE test: 14702.42\n"
     ]
    }
   ],
   "source": [
    "# Test the model\n",
    "\n",
    "y_pred_test = model.predict(X_test)\n",
    "MAE_test = round(mean_absolute_error(y_test, y_pred_test), 2)\n",
    "print(f'MAE test: {MAE_test}')"
   ]
  },
  {
   "cell_type": "code",
   "execution_count": 325,
   "id": "de1a91be",
   "metadata": {},
   "outputs": [
    {
     "data": {
      "text/plain": [
       "54860.81631657442"
      ]
     },
     "execution_count": 325,
     "metadata": {},
     "output_type": "execute_result"
    }
   ],
   "source": [
    "# Obtain the coefficeints and Intercept\n",
    "coefficients = pd.Series(model.named_steps['ridge'].coef_)\n",
    "coefficients\n",
    "\n",
    "intercept = model.named_steps['ridge'].intercept_\n",
    "intercept"
   ]
  },
  {
   "cell_type": "code",
   "execution_count": 311,
   "id": "f4a567f4",
   "metadata": {},
   "outputs": [
    {
     "data": {
      "text/plain": [
       "0      governorate_Ben Arous\n",
       "1         governorate_Nabeul\n",
       "2         governorate_Ariana\n",
       "3          governorate_tunis\n",
       "4        governorate_Bizerte\n",
       "5        governorate_ Sousse\n",
       "6         governorate_Djerba\n",
       "7         governorate_Mahdia\n",
       "8       governorate_Monastir\n",
       "9     governorate_La Manouba\n",
       "10      governorate_Zaghouan\n",
       "11        governorate_Kébili\n",
       "12          governorate_Sfax\n",
       "13      governorate_Jendouba\n",
       "14      governorate_Kairouan\n",
       "15          governorate_Béja\n",
       "16         governorate_Gabès\n",
       "17       governorate_Siliana\n",
       "18     governorate_Tataouine\n",
       "19                      Area\n",
       "20                      latt\n",
       "21                      long\n",
       "dtype: object"
      ]
     },
     "execution_count": 311,
     "metadata": {},
     "output_type": "execute_result"
    }
   ],
   "source": [
    "# Obtain feature names\n",
    "features = model.named_steps['onehotencoder'].get_feature_names_out()\n",
    "features"
   ]
  },
  {
   "cell_type": "markdown",
   "id": "887e3e11",
   "metadata": {},
   "source": [
    "### Create a function that takes in the Province, Area, Lattitude and Longitude and returns House Price prediction"
   ]
  },
  {
   "cell_type": "code",
   "execution_count": 372,
   "id": "05a6fb7f",
   "metadata": {},
   "outputs": [],
   "source": [
    "\n",
    "def make_prediction(province, surface_area_in_m2, lat, lon):\n",
    "    data = {\n",
    "        'governorate': province,\n",
    "        'Area': surface_area_in_m2,\n",
    "        'latt': lat,\n",
    "        'long': lon\n",
    "    }\n",
    "    \n",
    "    X = pd.DataFrame(data, index=[0])\n",
    "    \n",
    "    price = model.predict(X)\n",
    "    \n",
    "    return f'Predicted house Price: €{round(price[0], 2)}'"
   ]
  },
  {
   "cell_type": "code",
   "execution_count": 373,
   "id": "7d936aa4",
   "metadata": {},
   "outputs": [
    {
     "data": {
      "text/plain": [
       "'Predicted house Price: €53904.83'"
      ]
     },
     "execution_count": 373,
     "metadata": {},
     "output_type": "execute_result"
    }
   ],
   "source": [
    "price = make_prediction('Mahdia', 60, 4.24535, 2.453)\n",
    "price"
   ]
  },
  {
   "cell_type": "markdown",
   "id": "4d2cd7eb",
   "metadata": {},
   "source": [
    "### Communicating Result "
   ]
  },
  {
   "cell_type": "code",
   "execution_count": 385,
   "id": "972eed00",
   "metadata": {},
   "outputs": [
    {
     "data": {
      "application/vnd.jupyter.widget-view+json": {
       "model_id": "de4f846981154340a40af1cb15190934",
       "version_major": 2,
       "version_minor": 0
      },
      "text/plain": [
       "interactive(children=(Dropdown(description='province', options=('Bizerte', 'Nabeul', 'tunis', 'Ariana', ' Sous…"
      ]
     },
     "metadata": {},
     "output_type": "display_data"
    }
   ],
   "source": [
    "interact(\n",
    "    make_prediction,\n",
    "    surface_area_in_m2=IntSlider(\n",
    "        value=X_train['Area'].mean(),\n",
    "        min=X_train['Area'].min(),\n",
    "        max=X_train['Area'].max()\n",
    "    ),\n",
    "         \n",
    "     lat=FloatSlider(\n",
    "         value=X_train['latt'].mean(),\n",
    "         min=X_train['latt'].min(),\n",
    "         max=X_train['latt'].max()\n",
    "    ),\n",
    "         \n",
    "     lon=FloatSlider(\n",
    "         value=X_train['long'].mean(),\n",
    "         min=X_train['long'].min(),\n",
    "         max=X_train['long'].max()\n",
    "     ),\n",
    "    province=Dropdown(options=X_train['governorate'].unique())\n",
    ");"
   ]
  },
  {
   "cell_type": "code",
   "execution_count": null,
   "id": "577729c0",
   "metadata": {},
   "outputs": [],
   "source": []
  }
 ],
 "metadata": {
  "kernelspec": {
   "display_name": "Python 3 (ipykernel)",
   "language": "python",
   "name": "python3"
  },
  "language_info": {
   "codemirror_mode": {
    "name": "ipython",
    "version": 3
   },
   "file_extension": ".py",
   "mimetype": "text/x-python",
   "name": "python",
   "nbconvert_exporter": "python",
   "pygments_lexer": "ipython3",
   "version": "3.11.4"
  }
 },
 "nbformat": 4,
 "nbformat_minor": 5
}
